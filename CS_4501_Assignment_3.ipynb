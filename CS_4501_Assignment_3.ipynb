{
 "cells": [
  {
   "cell_type": "markdown",
   "metadata": {},
   "source": [
    "Kathryn Young (kmy9ca) <br>\n",
    "Machine Learning <br>\n",
    "04/05/2019"
   ]
  },
  {
   "cell_type": "markdown",
   "metadata": {
    "colab_type": "text",
    "id": "7cSXh8dy3_tf"
   },
   "source": [
    "# Assignment 3: Clustering California Housing with K-means"
   ]
  },
  {
   "cell_type": "markdown",
   "metadata": {
    "colab_type": "text",
    "id": "Dp4lehex3_ti"
   },
   "source": [
    "### CS 4501 Machine Learning - Department of Computer Science - University of Virginia\n",
    "\"Tonight, more than 130,000 Californians will go to sleep homeless. That’s enough to fill Dodger Stadium, AT&T Park and Petco Park. The biggest culprit is rising housing costs. From 2000 to 2014, median rent in California increased by more than one-third, while real incomes for renters fell by 7 percent. Today, 1.5 million Californians spend more than half their income on housing. This crisis threatens not just low-income families but our entire economy, driving businesses to relocate to states in which their employees can afford to live. - **Business Insider, Sep 2018.**\"\n",
    "\n",
    "![Half of the homes in San Franciso is now one million or above](https://amp.businessinsider.com/images/573de0b88d3eaea27198a55d-960-480.jpg)\n",
    "\n",
    "In this assignment, you will attempt to cluster the California Housing by implementing and analyzing the k-means algorithm to the data. K-Means is one of the most popular clustering algorithms. K-means stores k-centroids that it uses to define clusters. A point is considered to be in a particular cluster if it is closer to that cluster's centroid than any other centroid. For references, you may refer to my lecture 9 or Chapter 2 of the textbook if you need additional sample codes to help with your assignment. For deliverables, you must write code in Python and submit this Jupyter Notebook file (.ipynb) to earn a total of 100 pts. You will gain points depending on how you perform in the following sections.\n"
   ]
  },
  {
   "cell_type": "markdown",
   "metadata": {
    "colab_type": "text",
    "id": "OLpK737R3_tk"
   },
   "source": [
    "---\n",
    "## 1. PRE-PROCESSING THE DATA (10 pts)\n",
    "\n",
    "Download the California Housing dataset from the below link. This dataset includes statistics about the median income, median age, average number of rooms per person, average number of persons in a household etc. The statistics were gathered per geographical block.\n",
    "\n",
    "**Data Acquiring:** Download the dataset from https://www.kaggle.com/camnugent/california-housing-prices\n",
    "\n",
    "**Data Discovery, Visualization, and Cleaning:** Fortunately, this step have been given to you (for free) from chapter 2. However, you should review them and write the code necessary for the purposes of this assignment. "
   ]
  },
  {
   "cell_type": "code",
   "execution_count": 1,
   "metadata": {
    "colab": {},
    "colab_type": "code",
    "id": "2WQ3-JIC3_tm"
   },
   "outputs": [
    {
     "data": {
      "text/html": [
       "<div>\n",
       "<style scoped>\n",
       "    .dataframe tbody tr th:only-of-type {\n",
       "        vertical-align: middle;\n",
       "    }\n",
       "\n",
       "    .dataframe tbody tr th {\n",
       "        vertical-align: top;\n",
       "    }\n",
       "\n",
       "    .dataframe thead th {\n",
       "        text-align: right;\n",
       "    }\n",
       "</style>\n",
       "<table border=\"1\" class=\"dataframe\">\n",
       "  <thead>\n",
       "    <tr style=\"text-align: right;\">\n",
       "      <th></th>\n",
       "      <th>longitude</th>\n",
       "      <th>latitude</th>\n",
       "      <th>housing_median_age</th>\n",
       "      <th>total_rooms</th>\n",
       "      <th>total_bedrooms</th>\n",
       "      <th>population</th>\n",
       "      <th>households</th>\n",
       "      <th>median_income</th>\n",
       "      <th>median_house_value</th>\n",
       "    </tr>\n",
       "  </thead>\n",
       "  <tbody>\n",
       "    <tr>\n",
       "      <th>0</th>\n",
       "      <td>-122.23</td>\n",
       "      <td>37.88</td>\n",
       "      <td>41.0</td>\n",
       "      <td>880.0</td>\n",
       "      <td>129.0</td>\n",
       "      <td>322.0</td>\n",
       "      <td>126.0</td>\n",
       "      <td>8.3252</td>\n",
       "      <td>452600.0</td>\n",
       "    </tr>\n",
       "    <tr>\n",
       "      <th>1</th>\n",
       "      <td>-122.22</td>\n",
       "      <td>37.86</td>\n",
       "      <td>21.0</td>\n",
       "      <td>7099.0</td>\n",
       "      <td>1106.0</td>\n",
       "      <td>2401.0</td>\n",
       "      <td>1138.0</td>\n",
       "      <td>8.3014</td>\n",
       "      <td>358500.0</td>\n",
       "    </tr>\n",
       "    <tr>\n",
       "      <th>2</th>\n",
       "      <td>-122.24</td>\n",
       "      <td>37.85</td>\n",
       "      <td>52.0</td>\n",
       "      <td>1467.0</td>\n",
       "      <td>190.0</td>\n",
       "      <td>496.0</td>\n",
       "      <td>177.0</td>\n",
       "      <td>7.2574</td>\n",
       "      <td>352100.0</td>\n",
       "    </tr>\n",
       "    <tr>\n",
       "      <th>3</th>\n",
       "      <td>-122.25</td>\n",
       "      <td>37.85</td>\n",
       "      <td>52.0</td>\n",
       "      <td>1274.0</td>\n",
       "      <td>235.0</td>\n",
       "      <td>558.0</td>\n",
       "      <td>219.0</td>\n",
       "      <td>5.6431</td>\n",
       "      <td>341300.0</td>\n",
       "    </tr>\n",
       "    <tr>\n",
       "      <th>4</th>\n",
       "      <td>-122.25</td>\n",
       "      <td>37.85</td>\n",
       "      <td>52.0</td>\n",
       "      <td>1627.0</td>\n",
       "      <td>280.0</td>\n",
       "      <td>565.0</td>\n",
       "      <td>259.0</td>\n",
       "      <td>3.8462</td>\n",
       "      <td>342200.0</td>\n",
       "    </tr>\n",
       "  </tbody>\n",
       "</table>\n",
       "</div>"
      ],
      "text/plain": [
       "   longitude  latitude  housing_median_age  total_rooms  total_bedrooms  \\\n",
       "0    -122.23     37.88                41.0        880.0           129.0   \n",
       "1    -122.22     37.86                21.0       7099.0          1106.0   \n",
       "2    -122.24     37.85                52.0       1467.0           190.0   \n",
       "3    -122.25     37.85                52.0       1274.0           235.0   \n",
       "4    -122.25     37.85                52.0       1627.0           280.0   \n",
       "\n",
       "   population  households  median_income  median_house_value  \n",
       "0       322.0       126.0         8.3252            452600.0  \n",
       "1      2401.0      1138.0         8.3014            358500.0  \n",
       "2       496.0       177.0         7.2574            352100.0  \n",
       "3       558.0       219.0         5.6431            341300.0  \n",
       "4       565.0       259.0         3.8462            342200.0  "
      ]
     },
     "execution_count": 1,
     "metadata": {},
     "output_type": "execute_result"
    }
   ],
   "source": [
    "# You might want to use the following package\n",
    "from sklearn.model_selection import train_test_split\n",
    "from pandas.plotting import scatter_matrix # optional\n",
    "from sklearn.preprocessing import Imputer\n",
    "from sklearn.preprocessing import LabelEncoder\n",
    "from sklearn.preprocessing import OneHotEncoder\n",
    "from sklearn.pipeline import Pipeline\n",
    "from sklearn.preprocessing import StandardScaler\n",
    "import pandas as pd\n",
    "import numpy as np\n",
    "\n",
    "# Your code goes here for this section.\n",
    "housing = pd.read_csv(\"housing.csv\")\n",
    "housing = housing.drop(['ocean_proximity'], axis=1)\n",
    "housing.head()"
   ]
  },
  {
   "cell_type": "code",
   "execution_count": 2,
   "metadata": {},
   "outputs": [
    {
     "name": "stdout",
     "output_type": "stream",
     "text": [
      "<class 'pandas.core.frame.DataFrame'>\n",
      "RangeIndex: 20640 entries, 0 to 20639\n",
      "Data columns (total 9 columns):\n",
      "longitude             20640 non-null float64\n",
      "latitude              20640 non-null float64\n",
      "housing_median_age    20640 non-null float64\n",
      "total_rooms           20640 non-null float64\n",
      "total_bedrooms        20433 non-null float64\n",
      "population            20640 non-null float64\n",
      "households            20640 non-null float64\n",
      "median_income         20640 non-null float64\n",
      "median_house_value    20640 non-null float64\n",
      "dtypes: float64(9)\n",
      "memory usage: 1.4 MB\n"
     ]
    }
   ],
   "source": [
    "housing.info()"
   ]
  },
  {
   "cell_type": "code",
   "execution_count": 3,
   "metadata": {},
   "outputs": [
    {
     "data": {
      "text/plain": [
       "longitude             False\n",
       "latitude              False\n",
       "housing_median_age    False\n",
       "total_rooms           False\n",
       "total_bedrooms         True\n",
       "population            False\n",
       "households            False\n",
       "median_income         False\n",
       "median_house_value    False\n",
       "dtype: bool"
      ]
     },
     "execution_count": 3,
     "metadata": {},
     "output_type": "execute_result"
    }
   ],
   "source": [
    "housing.isna().any()"
   ]
  },
  {
   "cell_type": "code",
   "execution_count": 4,
   "metadata": {},
   "outputs": [
    {
     "data": {
      "text/html": [
       "<div>\n",
       "<style scoped>\n",
       "    .dataframe tbody tr th:only-of-type {\n",
       "        vertical-align: middle;\n",
       "    }\n",
       "\n",
       "    .dataframe tbody tr th {\n",
       "        vertical-align: top;\n",
       "    }\n",
       "\n",
       "    .dataframe thead th {\n",
       "        text-align: right;\n",
       "    }\n",
       "</style>\n",
       "<table border=\"1\" class=\"dataframe\">\n",
       "  <thead>\n",
       "    <tr style=\"text-align: right;\">\n",
       "      <th></th>\n",
       "      <th>longitude</th>\n",
       "      <th>latitude</th>\n",
       "      <th>housing_median_age</th>\n",
       "      <th>total_rooms</th>\n",
       "      <th>total_bedrooms</th>\n",
       "      <th>population</th>\n",
       "      <th>households</th>\n",
       "      <th>median_income</th>\n",
       "      <th>median_house_value</th>\n",
       "    </tr>\n",
       "  </thead>\n",
       "  <tbody>\n",
       "    <tr>\n",
       "      <th>0</th>\n",
       "      <td>-122.23</td>\n",
       "      <td>37.88</td>\n",
       "      <td>41.0</td>\n",
       "      <td>880.0</td>\n",
       "      <td>129.0</td>\n",
       "      <td>322.0</td>\n",
       "      <td>126.0</td>\n",
       "      <td>8.3252</td>\n",
       "      <td>452600.0</td>\n",
       "    </tr>\n",
       "    <tr>\n",
       "      <th>1</th>\n",
       "      <td>-122.22</td>\n",
       "      <td>37.86</td>\n",
       "      <td>21.0</td>\n",
       "      <td>7099.0</td>\n",
       "      <td>1106.0</td>\n",
       "      <td>2401.0</td>\n",
       "      <td>1138.0</td>\n",
       "      <td>8.3014</td>\n",
       "      <td>358500.0</td>\n",
       "    </tr>\n",
       "    <tr>\n",
       "      <th>2</th>\n",
       "      <td>-122.24</td>\n",
       "      <td>37.85</td>\n",
       "      <td>52.0</td>\n",
       "      <td>1467.0</td>\n",
       "      <td>190.0</td>\n",
       "      <td>496.0</td>\n",
       "      <td>177.0</td>\n",
       "      <td>7.2574</td>\n",
       "      <td>352100.0</td>\n",
       "    </tr>\n",
       "    <tr>\n",
       "      <th>3</th>\n",
       "      <td>-122.25</td>\n",
       "      <td>37.85</td>\n",
       "      <td>52.0</td>\n",
       "      <td>1274.0</td>\n",
       "      <td>235.0</td>\n",
       "      <td>558.0</td>\n",
       "      <td>219.0</td>\n",
       "      <td>5.6431</td>\n",
       "      <td>341300.0</td>\n",
       "    </tr>\n",
       "    <tr>\n",
       "      <th>4</th>\n",
       "      <td>-122.25</td>\n",
       "      <td>37.85</td>\n",
       "      <td>52.0</td>\n",
       "      <td>1627.0</td>\n",
       "      <td>280.0</td>\n",
       "      <td>565.0</td>\n",
       "      <td>259.0</td>\n",
       "      <td>3.8462</td>\n",
       "      <td>342200.0</td>\n",
       "    </tr>\n",
       "  </tbody>\n",
       "</table>\n",
       "</div>"
      ],
      "text/plain": [
       "   longitude  latitude  housing_median_age  total_rooms  total_bedrooms  \\\n",
       "0    -122.23     37.88                41.0        880.0           129.0   \n",
       "1    -122.22     37.86                21.0       7099.0          1106.0   \n",
       "2    -122.24     37.85                52.0       1467.0           190.0   \n",
       "3    -122.25     37.85                52.0       1274.0           235.0   \n",
       "4    -122.25     37.85                52.0       1627.0           280.0   \n",
       "\n",
       "   population  households  median_income  median_house_value  \n",
       "0       322.0       126.0         8.3252            452600.0  \n",
       "1      2401.0      1138.0         8.3014            358500.0  \n",
       "2       496.0       177.0         7.2574            352100.0  \n",
       "3       558.0       219.0         5.6431            341300.0  \n",
       "4       565.0       259.0         3.8462            342200.0  "
      ]
     },
     "execution_count": 4,
     "metadata": {},
     "output_type": "execute_result"
    }
   ],
   "source": [
    "### Drop NaN values since there are a lot of datapoints.\n",
    "housing = housing.dropna()\n",
    "housing.head()"
   ]
  },
  {
   "cell_type": "code",
   "execution_count": 5,
   "metadata": {},
   "outputs": [
    {
     "name": "stdout",
     "output_type": "stream",
     "text": [
      "                    longitude  latitude  housing_median_age  total_rooms  \\\n",
      "longitude            1.000000 -0.924616           -0.109357     0.045480   \n",
      "latitude            -0.924616  1.000000            0.011899    -0.036667   \n",
      "housing_median_age  -0.109357  0.011899            1.000000    -0.360628   \n",
      "total_rooms          0.045480 -0.036667           -0.360628     1.000000   \n",
      "total_bedrooms       0.069608 -0.066983           -0.320451     0.930380   \n",
      "population           0.100270 -0.108997           -0.295787     0.857281   \n",
      "households           0.056513 -0.071774           -0.302768     0.918992   \n",
      "median_income       -0.015550 -0.079626           -0.118278     0.197882   \n",
      "median_house_value  -0.045398 -0.144638            0.106432     0.133294   \n",
      "\n",
      "                    total_bedrooms  population  households  median_income  \\\n",
      "longitude                 0.069608    0.100270    0.056513      -0.015550   \n",
      "latitude                 -0.066983   -0.108997   -0.071774      -0.079626   \n",
      "housing_median_age       -0.320451   -0.295787   -0.302768      -0.118278   \n",
      "total_rooms               0.930380    0.857281    0.918992       0.197882   \n",
      "total_bedrooms            1.000000    0.877747    0.979728      -0.007723   \n",
      "population                0.877747    1.000000    0.907186       0.005087   \n",
      "households                0.979728    0.907186    1.000000       0.013434   \n",
      "median_income            -0.007723    0.005087    0.013434       1.000000   \n",
      "median_house_value        0.049686   -0.025300    0.064894       0.688355   \n",
      "\n",
      "                    median_house_value  \n",
      "longitude                    -0.045398  \n",
      "latitude                     -0.144638  \n",
      "housing_median_age            0.106432  \n",
      "total_rooms                   0.133294  \n",
      "total_bedrooms                0.049686  \n",
      "population                   -0.025300  \n",
      "households                    0.064894  \n",
      "median_income                 0.688355  \n",
      "median_house_value            1.000000  \n"
     ]
    }
   ],
   "source": [
    "corr_matrix = housing.corr()\n",
    "print(corr_matrix)"
   ]
  },
  {
   "cell_type": "code",
   "execution_count": 6,
   "metadata": {},
   "outputs": [
    {
     "name": "stdout",
     "output_type": "stream",
     "text": [
      "16346 train + 4087 test\n"
     ]
    }
   ],
   "source": [
    "from sklearn.model_selection import train_test_split\n",
    "X_train, X_test = train_test_split(housing, test_size=0.2, random_state=42)\n",
    "\n",
    "print(len(X_train), \"train +\", len(X_test), \"test\")"
   ]
  },
  {
   "cell_type": "code",
   "execution_count": 7,
   "metadata": {},
   "outputs": [
    {
     "data": {
      "text/html": [
       "<div>\n",
       "<style scoped>\n",
       "    .dataframe tbody tr th:only-of-type {\n",
       "        vertical-align: middle;\n",
       "    }\n",
       "\n",
       "    .dataframe tbody tr th {\n",
       "        vertical-align: top;\n",
       "    }\n",
       "\n",
       "    .dataframe thead th {\n",
       "        text-align: right;\n",
       "    }\n",
       "</style>\n",
       "<table border=\"1\" class=\"dataframe\">\n",
       "  <thead>\n",
       "    <tr style=\"text-align: right;\">\n",
       "      <th></th>\n",
       "      <th>longitude</th>\n",
       "      <th>latitude</th>\n",
       "      <th>housing_median_age</th>\n",
       "      <th>total_rooms</th>\n",
       "      <th>total_bedrooms</th>\n",
       "      <th>population</th>\n",
       "      <th>households</th>\n",
       "      <th>median_income</th>\n",
       "      <th>median_house_value</th>\n",
       "    </tr>\n",
       "  </thead>\n",
       "  <tbody>\n",
       "    <tr>\n",
       "      <th>0</th>\n",
       "      <td>-1.106514</td>\n",
       "      <td>0.786208</td>\n",
       "      <td>-1.162062</td>\n",
       "      <td>0.829311</td>\n",
       "      <td>0.929297</td>\n",
       "      <td>1.131110</td>\n",
       "      <td>1.040744</td>\n",
       "      <td>0.438412</td>\n",
       "      <td>0.182141</td>\n",
       "    </tr>\n",
       "    <tr>\n",
       "      <th>1</th>\n",
       "      <td>-0.024671</td>\n",
       "      <td>0.467873</td>\n",
       "      <td>0.348657</td>\n",
       "      <td>-0.738558</td>\n",
       "      <td>-0.850523</td>\n",
       "      <td>-0.708899</td>\n",
       "      <td>-0.856152</td>\n",
       "      <td>-0.242389</td>\n",
       "      <td>-0.836532</td>\n",
       "    </tr>\n",
       "    <tr>\n",
       "      <th>2</th>\n",
       "      <td>0.758045</td>\n",
       "      <td>-0.711838</td>\n",
       "      <td>-0.287435</td>\n",
       "      <td>0.587350</td>\n",
       "      <td>0.747242</td>\n",
       "      <td>0.378459</td>\n",
       "      <td>0.691525</td>\n",
       "      <td>-0.108969</td>\n",
       "      <td>0.360322</td>\n",
       "    </tr>\n",
       "    <tr>\n",
       "      <th>3</th>\n",
       "      <td>0.633408</td>\n",
       "      <td>-0.735245</td>\n",
       "      <td>-0.048901</td>\n",
       "      <td>-0.122742</td>\n",
       "      <td>0.989183</td>\n",
       "      <td>1.185124</td>\n",
       "      <td>1.048681</td>\n",
       "      <td>-0.861168</td>\n",
       "      <td>0.860097</td>\n",
       "    </tr>\n",
       "    <tr>\n",
       "      <th>4</th>\n",
       "      <td>1.151895</td>\n",
       "      <td>-1.217429</td>\n",
       "      <td>-0.128412</td>\n",
       "      <td>-0.365632</td>\n",
       "      <td>-0.345083</td>\n",
       "      <td>-0.105008</td>\n",
       "      <td>-0.247664</td>\n",
       "      <td>-0.168986</td>\n",
       "      <td>0.069148</td>\n",
       "    </tr>\n",
       "  </tbody>\n",
       "</table>\n",
       "</div>"
      ],
      "text/plain": [
       "   longitude  latitude  housing_median_age  total_rooms  total_bedrooms  \\\n",
       "0  -1.106514  0.786208           -1.162062     0.829311        0.929297   \n",
       "1  -0.024671  0.467873            0.348657    -0.738558       -0.850523   \n",
       "2   0.758045 -0.711838           -0.287435     0.587350        0.747242   \n",
       "3   0.633408 -0.735245           -0.048901    -0.122742        0.989183   \n",
       "4   1.151895 -1.217429           -0.128412    -0.365632       -0.345083   \n",
       "\n",
       "   population  households  median_income  median_house_value  \n",
       "0    1.131110    1.040744       0.438412            0.182141  \n",
       "1   -0.708899   -0.856152      -0.242389           -0.836532  \n",
       "2    0.378459    0.691525      -0.108969            0.360322  \n",
       "3    1.185124    1.048681      -0.861168            0.860097  \n",
       "4   -0.105008   -0.247664      -0.168986            0.069148  "
      ]
     },
     "execution_count": 7,
     "metadata": {},
     "output_type": "execute_result"
    }
   ],
   "source": [
    "### Feature Scaling\n",
    "from sklearn.preprocessing import StandardScaler\n",
    "scaler = StandardScaler()\n",
    "\n",
    "## scale X_train\n",
    "scaler.fit(X_train)\n",
    "X_train = pd.DataFrame(scaler.transform(X_train), columns=['longitude', 'latitude', 'housing_median_age',\n",
    "                                                          'total_rooms', 'total_bedrooms', 'population',\n",
    "                                                          'households', 'median_income', 'median_house_value'])\n",
    "X_train.head()\n",
    "\n",
    "## scale X_test\n",
    "scaler.fit(X_test)\n",
    "X_test = pd.DataFrame(scaler.transform(X_test), columns=['longitude', 'latitude', 'housing_median_age',\n",
    "                                                          'total_rooms', 'total_bedrooms', 'population',\n",
    "                                                          'households', 'median_income', 'median_house_value'])\n",
    "X_train.head()\n"
   ]
  },
  {
   "cell_type": "markdown",
   "metadata": {
    "colab_type": "text",
    "id": "2ZFd6TC_3_ts"
   },
   "source": [
    "- - -\n",
    "## 2. IMPLEMENTING K-MEANS (40 pts)\n",
    "\n",
    "You must implement your own version of K-Means Algorithm. Input a cluster count K and M data points each with its own vector of N features, along with the choice of a distance measure; then:\n",
    "\n",
    "1. Initialize K centroids. In our case, a centroid is just the average of all data in a cluster.\n",
    "2. Assign each data point to the cluster that has the closest centroid base on a **distance measure** below.\n",
    "3. After all data points have been assigned to clusters, recalculate the centroids for each cluster (as averages of all points in the cluster).\n",
    "4. Repeat the data assignments and centroid calculations until no change in housing assignment occurs between iterations.\n",
    "\n",
    "**Distance Measures:** Your implementation must include the Euclidean distance which is:\n",
    "$d(\\mathbf{x},\\mathbf{y}) = \\sqrt[\\leftroot{2}\\uproot{2}2]{\\sum\\limits_{i=1}^n|x_i - y_i|^2}$\n",
    "\n",
    "**Implementation Notes:** Note that your functions should return distance measures; that is, the returned value should be high if the two vectors are dissimilar, low if they are similar, and zero if they are completely identical."
   ]
  },
  {
   "cell_type": "code",
   "execution_count": 8,
   "metadata": {
    "colab": {},
    "colab_type": "code",
    "id": "SB89ZcCw3_tt"
   },
   "outputs": [
    {
     "name": "stdout",
     "output_type": "stream",
     "text": [
      "done\n"
     ]
    }
   ],
   "source": [
    "# Function: K Means\n",
    "# -------------\n",
    "# K-Means is an algorithm that takes in a dataset and a constant\n",
    "# k and returns k centroids (which define clusters of data in the\n",
    "# dataset which are similar to one another).\n",
    "import operator\n",
    "import math\n",
    "\n",
    "def chunk(l, k):\n",
    "    avg = len(l) / float(k)\n",
    "    out = []\n",
    "    last = 0.0\n",
    "\n",
    "    while last < len(l):\n",
    "        out.append(l[int(last):int(last + avg)])\n",
    "        last += avg\n",
    "\n",
    "    return out\n",
    "\n",
    "\n",
    "def k_divide(k, df):                                                    ## makes dataframe into equal groups of tuples\n",
    "    data_in_tuples = list(zip(*[df[c].values.tolist() for c in df]))    ## make dataframe into tuples\n",
    "    divided_tuples = chunk(data_in_tuples, k)                           ## divide data tuples into k groups\n",
    "    return divided_tuples\n",
    "    \n",
    "\n",
    "\n",
    "def random_centroids(k, df):\n",
    "    divided_tuples = k_divide(k,df)                                     ## get equal groups of tuples\n",
    "    centroids = []                                                      ## create centroids array\n",
    "    \n",
    "    for centroid in range (0,k):\n",
    "        centroid_tuple = list(divided_tuples[centroid][0])                  ## get first tuple value as list\n",
    "        for tup in range (1,len(divided_tuples[centroid])):             ## goes through each tuple in list\n",
    "            the_tuples = list(divided_tuples[centroid])\n",
    "            the_tuples = list(the_tuples[tup])\n",
    "            for i in range (1, len(the_tuples)):\n",
    "                centroid_tuple[i] = centroid_tuple[i] + the_tuples[i]\n",
    "        \n",
    "        ### get averages\n",
    "        centroid_values = []\n",
    "        for element in centroid_tuple:\n",
    "            element = element / len(divided_tuples[centroid])\n",
    "            centroid_values.append(element)\n",
    "        centroids.append(centroid_values)\n",
    "    \n",
    "    return centroids\n",
    "\n",
    "##assign to nearest centroid\n",
    "\n",
    "def assign_to_centroids(centroids, df):\n",
    "    # take data tuples\n",
    "    df_values = df.values.tolist()\n",
    "    \n",
    "    # get empty array of arrays to organize data by centroid.\n",
    "    data_by_centroid = []\n",
    "    for p in centroids:\n",
    "        data_by_centroid.append([])\n",
    "    \n",
    "    # place data into centroids by getting minimum distance.\n",
    "    for i in df_values:\n",
    "        dist_values = []\n",
    "        for c in centroids:\n",
    "            dist = 0\n",
    "            for num in range(0, len(i)):\n",
    "                dist = dist + math.pow(abs(i[num] - c[num]), 2)\n",
    "            dist = math.pow(dist, 0.5)\n",
    "            dist_values.append(dist)\n",
    "        # assign to centroid with minimum distance\n",
    "        minpos = dist_values.index(min(dist_values))\n",
    "        data_by_centroid[minpos].append(i)\n",
    "        \n",
    "    # return clusters\n",
    "    return data_by_centroid\n",
    "\n",
    "def reassign_centroids(points_in_centroid):\n",
    "    new_centroids = []\n",
    "    for group in points_in_centroid:\n",
    "        new_centroid = []\n",
    "        # create array of 0s to add to and eventually average.\n",
    "        for i in group[0]:\n",
    "            new_centroid.append(0)\n",
    "        # add values to array of 0s.\n",
    "        for point in group:\n",
    "            for val in range(0,len(point)):\n",
    "                new_centroid[val] = new_centroid[val] + point[val]\n",
    "        # divide by number of points in group to get average    \n",
    "        for i in range(0,len(new_centroid)):\n",
    "            new_centroid[i] = new_centroid[i] / len(group)\n",
    "        \n",
    "        new_centroids.append(new_centroid)\n",
    "    return new_centroids\n",
    "        \n",
    "    \n",
    "def k_means(k,df):\n",
    "    ## begin with random centroids\n",
    "    rand_centroids = random_centroids(k,df)\n",
    "    \n",
    "    ## Decide the class memberships of the m objects \n",
    "    ## by assigning them to the nearest cluster centroids (aka mean)\n",
    "    data_by_centroid = assign_to_centroids(rand_centroids, df)\n",
    "\n",
    "    # Re-estimate the k cluster centers, by assuming the membership \n",
    "    # found above are correct.\n",
    "    reassigned_centroids = reassign_centroids(data_by_centroid)\n",
    "    \n",
    "    # If none of the m objects change membership in the last iteration, exit. \n",
    "    # Otherwise, go to 3.\n",
    "    data_by_centroid_new = assign_to_centroids(reassigned_centroids, df)\n",
    "    \n",
    "    reassigned_centroids_new = reassign_centroids(data_by_centroid_new)\n",
    "    \n",
    "    \n",
    "    while data_by_centroid != data_by_centroid_new:\n",
    "        data_by_centroid = data_by_centroid_new\n",
    "        reassigned_centroids = reassigned_centroids_new\n",
    "        \n",
    "        data_by_centroid_new = assign_to_centroids(reassigned_centroids, df)\n",
    "        reassigned_centroids_new = reassign_centroids(data_by_centroid_new)\n",
    "        \n",
    "    print(\"done\")\n",
    "    \n",
    "    clusters = data_by_centroid\n",
    "    return clusters\n",
    "    \n",
    "clusters = k_means(2,X_train)"
   ]
  },
  {
   "cell_type": "markdown",
   "metadata": {
    "colab_type": "text",
    "id": "t6vW6tyo3_tv"
   },
   "source": [
    "- - -\n",
    "## 3. CLUSTERING HOUSING INTO REGIONS (40 pts)\n",
    "\n",
    "Now that you have implemented the K-Means as the clustering algorithm. Applying the algorithm for k=2 clusters to see if you can split California into a Northern and Southern regions.\n",
    "\n",
    "* **Cluster the data:** Write down the SSE (sum squared error), cluster means, within cluster standard deviations for each attribute, etc. Visualize the clustering by plot the latitude along the X axis and longitude along the Y axis. You should get a plot that looks roughly in the shape of California (see Chapter 2 for more details). Using the cluster means and std. deviations as representative values in the cluster, what can you say about the clusters that were found? How do they compare with what you know about cities and areas in California? What can you attribute the gaps to? It will definitely be helpful to have a map of California handy.\n",
    "\n",
    "* **Change the number of clusters:** Change k from 2 to 10 and repeat the clustering process above. Record cluster means and standard deviations. When you change k, do any additional patterns emerge? If so, what are they? Applying the algorithm for 10 clusters to see if it clearly identified the silicon valley area as one cluster (where houses are relatively new and expensive, median income is high), the area of San Francisco as another etc. While SF and Silicon Valley may have a somewhat similar profile (at least, compared with mid CA), they were separated mainly due to the latitude/longtitue properties, that involve a dimension of geographical cohesiveness.\n",
    "\n",
    "**Implementation Notes:** For each k, report the training and validation accuracy. Identify the k with the highest validation accuracy, and report the test accuracy with this choice of k. Note: if multiple values of k result in the highest validation accuracy, then report test accuracies for all such values of k. Then, plot the data points with different markers corresponding to different classes. Repeat this process for all k and discuss the smoothness of the regions as k increases.\n"
   ]
  },
  {
   "cell_type": "code",
   "execution_count": 20,
   "metadata": {},
   "outputs": [
    {
     "name": "stdout",
     "output_type": "stream",
     "text": [
      "done\n",
      "[[ 0.          0.75804456 -0.71183841]\n",
      " [ 0.          0.63340827 -0.73524539]\n",
      " [ 0.          1.15189525 -1.21742909]\n",
      " ...\n",
      " [ 1.         -1.34581609  0.88451734]\n",
      " [ 1.         -1.22616525  0.90324292]\n",
      " [ 1.         -1.42059787  0.97814524]]\n"
     ]
    },
    {
     "data": {
      "image/png": "[encoded data removed]",
      "text/plain": [
       "<Figure size 432x288 with 1 Axes>"
      ]
     },
     "metadata": {
      "needs_background": "light"
     },
     "output_type": "display_data"
    }
   ],
   "source": [
    "# Split California into Northern and Southern regions with K-Means on latitude and longitude\n",
    "#from mlxtend.general_plotting import category_scatter\n",
    "\n",
    "NS_train = X_train.drop(['housing_median_age', 'total_rooms', 'total_bedrooms', 'population',\n",
    "                        'median_income', 'median_house_value', 'households'], axis=1)\n",
    "NS_train.head()\n",
    "NS_clusters = k_means(2,NS_train)\n",
    "\n",
    "cluster_index = 0\n",
    "\n",
    "formatted_data = []\n",
    "\n",
    "for c in NS_clusters:\n",
    "    for data_point in c:\n",
    "        the_point = []\n",
    "        the_point.append(cluster_index)\n",
    "        the_point.append(data_point[0])\n",
    "        the_point.append(data_point[1])\n",
    "        formatted_data.append(the_point)\n",
    "    cluster_index += 1\n",
    "    \n",
    "formatted_data = np.array(formatted_data)\n",
    "\n",
    "print(formatted_data)\n",
    "\n",
    "fix = category_scatter(x=1, y=2, label_col=0, \n",
    "                       data=formatted_data, legend_loc='upper left')"
   ]
  },
  {
   "cell_type": "code",
   "execution_count": 15,
   "metadata": {
    "colab": {},
    "colab_type": "code",
    "id": "Vi058vv73_tw"
   },
   "outputs": [
    {
     "name": "stdout",
     "output_type": "stream",
     "text": [
      "Cluster Means: \n",
      "[[-0.026166727406468183, 0.02490903407046764, 0.1140854044402541, -0.25526677175331947, -0.26513680942562223, -0.2428194923105281, -0.26455783072289535, -0.022354241677300782, -0.01965295982993857], [0.19894976005986448, -0.18938731904314027, -0.8674093434441602, 1.9408335709202371, 2.015877025769759, 1.8461949399567854, 2.0114749592752443, 0.16996282908962437, 0.14942455668594337]]\n",
      "---------------\n",
      "SSE Values (by cluster): \n",
      "[85786.8670143635, 26575.942647200656]\n",
      "---------------\n",
      "SSE Value for k = 2:  112362.80966156416\n",
      "---------------\n",
      "Standard Deviation Values: \n",
      "[[1.0003023101439545, 1.0087023588237714, 0.9732126701842977, 0.4648968817214462, 0.4824279666025297, 0.5117965601543081, 0.4906920170442961, 1.0049063980724458, 1.0060900638993278], [0.975521865055895, 0.909658951583128, 0.7425037454299516, 1.6429130333518145, 1.4955534083713355, 1.6602650482787644, 1.481748659042742, 0.9452638509848651, 0.9395975947558]]\n"
     ]
    }
   ],
   "source": [
    "import statistics\n",
    "\n",
    "# Cluster means (per attribute)... centroid values.\n",
    "cluster_means = reassign_centroids(clusters)\n",
    "print(\"Cluster Means: \")\n",
    "print(cluster_means)\n",
    "print(\"---------------\")\n",
    "\n",
    "# SSE Calculation (per attribute)... distance formula without taking the square root\n",
    "cluster_num = 0\n",
    "SSE_Values = []\n",
    "\n",
    "for c in clusters:\n",
    "    indiv_clust_SSE = [0,0,0,0,0,0,0,0,0]          \n",
    "    for point in c:\n",
    "        for attribute in range(0, len(point)):\n",
    "            indiv_clust_SSE[attribute] += math.pow(abs(point[attribute] - cluster_means[cluster_num][attribute]), 2)#  absolute value. squared\n",
    "    SSE_Values.append(indiv_clust_SSE)\n",
    "    cluster_num += 1\n",
    "\n",
    "SSE_by_cluster = [] \n",
    "\n",
    "for clust in SSE_Values:\n",
    "    cluster_SSE = 0\n",
    "    for v in clust:\n",
    "        cluster_SSE += v\n",
    "    SSE_by_cluster.append(cluster_SSE)\n",
    "    \n",
    "SSE_k2 = SSE_by_cluster[0] + SSE_by_cluster[1]\n",
    "\n",
    "print(\"SSE Values (by cluster): \")    \n",
    "print(SSE_by_cluster)\n",
    "print(\"---------------\")\n",
    "print(\"SSE Value for k = 2: \", SSE_k2 )\n",
    "print(\"---------------\")\n",
    "\n",
    "# within cluster standard deviations (per attribute)\n",
    "st_dev_clusters = []\n",
    "\n",
    "for c in clusters:\n",
    "    indiv_clust_numbers = [[],[],[],[],[],[],[],[],[]]\n",
    "    for point in c: \n",
    "        for i in range(0, len(point)):\n",
    "            indiv_clust_numbers[i].append(point[i])\n",
    "    st_dev_values = []\n",
    "    \n",
    "    for attribute in indiv_clust_numbers:\n",
    "        st_dev_values.append(statistics.stdev(attribute))\n",
    "    st_dev_clusters.append(st_dev_values)\n",
    "\n",
    "print(\"Standard Deviation Values: \")\n",
    "print(st_dev_clusters)\n"
   ]
  },
  {
   "cell_type": "code",
   "execution_count": 16,
   "metadata": {},
   "outputs": [
    {
     "name": "stdout",
     "output_type": "stream",
     "text": [
      "[[ 0.         -0.02467137  0.46787317]\n",
      " [ 0.          0.75804456 -0.71183841]\n",
      " [ 0.          0.63340827 -0.73524539]\n",
      " ...\n",
      " [ 1.         -1.0766017   1.08113594]\n",
      " [ 1.          1.01728806 -0.88036864]\n",
      " [ 1.         -1.22616525  0.90324292]]\n"
     ]
    }
   ],
   "source": [
    "# Visualize the clustering by plot the latitude along the X axis and longitude along the Y axis. \n",
    "# You should get a plot that looks roughly in the shape of California\n",
    "import numpy as np\n",
    "import matplotlib.pyplot as plt\n",
    "import matplotlib.pyplot as plt\n",
    "from mlxtend.plotting import category_scatter\n",
    "\n",
    "\n",
    "cluster_index = 0\n",
    "\n",
    "formatted_data = []\n",
    "\n",
    "for c in clusters:\n",
    "    for data_point in c:\n",
    "        the_point = []\n",
    "        the_point.append(cluster_index)\n",
    "        the_point.append(data_point[0])\n",
    "        the_point.append(data_point[1])\n",
    "        formatted_data.append(the_point)\n",
    "    cluster_index += 1\n",
    "\n",
    "formatted_data = np.array(formatted_data)\n",
    "\n",
    "print(formatted_data)\n",
    "\n",
    "fix = category_scatter(x=1, y=2, label_col=0, \n",
    "                       data=formatted_data, legend_loc='upper left')\n",
    " \n"
   ]
  },
  {
   "cell_type": "markdown",
   "metadata": {},
   "source": [
    "In the plot, cluster 0 appears to be less populated and more \"rural\" areas. Cluster 1 appears to be more densely populated metropolitan areas. Cluster 1, based on mean values, appears to be younger, have more total rooms, more bedrooms, much higher population, more households, higher income, and higher median house value. All of these values make sense when matched up with the typical metropolitan area. A lot of young people move to these areas for work while many older people move out of these areas to retire and start families. These areas, by their nature of being heavily populated and compact would also have more bedrooms/rooms and total households. Many higher income jobs are located in these areas, which also makes the median house value high to match that. These areas also have a higher standard deviation of number of bedrooms, population, households, and median income. While there are very affluent areas in cities, there are also very poor neighborhoods with a lot of homeless people. Some neighborhoods are also very different than others in terms of size and population. \n",
    "\n",
    "Cluster 1 seems to encompass areas such as Los Angeles, Long Beach, Malibu, San Francisco, Sacramento, San Diego, and the other smaller cities along the coast.\n",
    "\n",
    "Cluster 0 seems to encompass the populated areas that are much less well known and smaller in general such as Trinidad, Crescent City, Paradise, Apple Valley, and much more.\n",
    "\n",
    "The gaps are in places where there are numerous national natural forests and parks such as Mendocino National Forest, Lassen National Forest, Plumas National Forest, Yosemite National Park, Sequoia National Forest, and Los Padres National Forest."
   ]
  },
  {
   "cell_type": "code",
   "execution_count": 17,
   "metadata": {},
   "outputs": [
    {
     "name": "stdout",
     "output_type": "stream",
     "text": [
      "done\n"
     ]
    }
   ],
   "source": [
    "ten_clusters = k_means(10, X_train)"
   ]
  },
  {
   "cell_type": "code",
   "execution_count": 18,
   "metadata": {},
   "outputs": [
    {
     "name": "stdout",
     "output_type": "stream",
     "text": [
      "[[ 0.          0.75804456 -0.71183841]\n",
      " [ 0.          0.63340827 -0.73524539]\n",
      " [ 0.          0.60848101 -0.79142213]\n",
      " ...\n",
      " [ 9.          0.80789908 -0.77269655]\n",
      " [ 9.          0.80291363 -0.89909422]\n",
      " [ 9.          0.5785683  -0.76333376]]\n"
     ]
    },
    {
     "data": {
      "image/png": "[encoded data removed]",
      "text/plain": [
       "<Figure size 432x288 with 1 Axes>"
      ]
     },
     "metadata": {
      "needs_background": "light"
     },
     "output_type": "display_data"
    }
   ],
   "source": [
    "cluster_index = 0\n",
    "\n",
    "ten_formatted_data = []\n",
    "\n",
    "for c in ten_clusters:\n",
    "    for data_point in c:\n",
    "        the_point = []\n",
    "        the_point.append(cluster_index)\n",
    "        the_point.append(data_point[0])\n",
    "        the_point.append(data_point[1])\n",
    "        ten_formatted_data.append(the_point)\n",
    "    cluster_index += 1\n",
    "\n",
    "ten_formatted_data = np.array(ten_formatted_data)\n",
    "\n",
    "print(ten_formatted_data)\n",
    "\n",
    "fix = category_scatter(x=1, y=2, label_col=0, \n",
    "                       data=ten_formatted_data, legend_loc='upper left')"
   ]
  },
  {
   "cell_type": "code",
   "execution_count": 21,
   "metadata": {},
   "outputs": [
    {
     "name": "stdout",
     "output_type": "stream",
     "text": [
      "Cluster Means: \n",
      "[[0.8366875096345413, -0.8131229005253588, -0.4871650752150876, 0.603114711418482, 0.8175344077073486, 0.8318366722844286, 0.8158858843434973, -0.21020108996797876, -0.12418043113468995], [0.7428487117815906, -0.7701231321986425, 0.7650714431657408, -0.4943779328895159, -0.4249831233735483, -0.2728297268272684, -0.4137697666112925, -0.4757017143495465, -0.415895155470999], [0.870744276939628, -0.7594527946020616, -0.8987393710413366, -0.3451644687870815, -0.31494505116553817, -0.316933672374546, -0.3421279169575961, -0.24455315761961902, -0.46912250423099566], [0.09868379010150424, -0.0902783701323436, -0.9696468024792778, 2.4972178884962806, 2.572206719253216, 2.31611476555641, 2.5708999575985434, 0.2157072584914437, 0.14849479752338077], [-1.2985259562894, 0.9426611252569058, 0.8047179465909569, -0.28281038847515416, -0.3515942261989282, -0.4097054456678801, -0.3339316058714942, 0.4566901593095724, 0.9254954944772643], [-0.14349876103765605, -0.08791853683543134, -0.02606068471514822, 0.1742265657616583, -0.2992170665815183, -0.2680491914998483, -0.2681828119438298, 3.1663952402158073, 2.3157293531219088], [-1.0208391208504022, 1.0453114724993, -0.7724243056693573, 0.47106612510142504, 0.43807329686383417, 0.3808350551355982, 0.451616251588149, 0.0395695447548642, -0.15421165412898763], [-0.9673932377898224, 1.2167685313137573, 0.19180574878246345, -0.49989014957290034, -0.4950480089154305, -0.5127861194038105, -0.5247936482451613, -0.6182532481952168, -0.802202349830612], [0.24263555142166984, -0.21324947213135342, -1.4344759475508835, 6.636347110104175, 6.320019647005986, 6.161849159656965, 6.328772036575567, 0.4341802102788556, 0.15329971360727918], [0.6911043389526326, -0.8215843330860209, 0.18864184033862572, -0.147337262337774, -0.2920858020639051, -0.3479711857499026, -0.2731835886600242, 0.8059240264333793, 1.2229353343296587]]\n",
      "---------------\n",
      "Standard Deviation Values: \n",
      "[[0.35143675389919704, 0.28350617992310817, 0.7423620632922663, 0.5332120160659729, 0.5167708380898443, 0.5978039926385291, 0.4755026065735629, 0.6673718752490861, 0.7084398796211171], [0.3082242731281007, 0.2711141999091764, 0.5063750485954903, 0.30183335491603647, 0.3566251095596709, 0.4324830180869438, 0.36258663139475894, 0.5354619961891403, 0.49852827325684096], [0.5484101745761908, 0.4958566167789833, 0.5139273794318175, 0.3719122646921618, 0.39667630381273866, 0.4083230816781883, 0.3862911557502192, 0.6687378786733805, 0.5271493280969589], [0.9921190536808663, 0.9111209558132911, 0.700794990370575, 0.956588065129508, 0.868469317395579, 0.966922344195835, 0.8175941144322109, 0.8982908502129038, 0.9118985068386043], [0.1683292386473326, 0.18770229616836784, 0.9224280650981094, 0.4099332281088837, 0.4493117555409039, 0.4380676483933776, 0.46388506561332216, 0.7168161635620881, 0.7712326652777574], [0.9763661909230855, 0.8437027901885998, 1.027272506805682, 0.7639391519129584, 0.5421502897560737, 0.5461380414962588, 0.5665056929248955, 1.1395469327255547, 0.44486716897825856], [0.40321559360664416, 0.45745196788798126, 0.6824974731482608, 0.5162740646330621, 0.5279747949372608, 0.5357788564940371, 0.5393977416828902, 0.693099402513066, 0.711110244321297], [0.5270233350952263, 0.5369092721986916, 0.9324364945046146, 0.32275354320748517, 0.3575087582695841, 0.37098661989554055, 0.3659516227989186, 0.5041433690174335, 0.4067167452447084], [0.9513587577403846, 0.9392235517769967, 0.5323453430208708, 2.4532553437059943, 2.064854865845796, 3.388898455009004, 2.0256514810298216, 0.8424297316146422, 0.8460685770105033], [0.29574119353870426, 0.19847943345816318, 0.8702301170631124, 0.4281963056142691, 0.4118492311674954, 0.36945521183343466, 0.4159372759902922, 0.6863845587995158, 0.7734174127359004]]\n"
     ]
    }
   ],
   "source": [
    "# Record cluster means and standard deviations. \n",
    "\n",
    "# Cluster means (per attribute)... centroid values.\n",
    "ten_cluster_means = reassign_centroids(ten_clusters)\n",
    "print(\"Cluster Means: \")\n",
    "print(ten_cluster_means)\n",
    "print(\"---------------\")\n",
    "\n",
    "# within cluster standard deviations (per attribute)\n",
    "ten_st_dev_clusters = []\n",
    "\n",
    "for c in ten_clusters:\n",
    "    indiv_clust_numbers = [[],[],[],[],[],[],[],[],[]]\n",
    "    for point in c: \n",
    "        for i in range(0, len(point)):\n",
    "            indiv_clust_numbers[i].append(point[i])\n",
    "    st_dev_values = []\n",
    "    \n",
    "    for attribute in indiv_clust_numbers:\n",
    "        st_dev_values.append(statistics.stdev(attribute))\n",
    "    ten_st_dev_clusters.append(st_dev_values)\n",
    "\n",
    "print(\"Standard Deviation Values: \")\n",
    "print(ten_st_dev_clusters)\n",
    "\n"
   ]
  },
  {
   "cell_type": "markdown",
   "metadata": {},
   "source": [
    "There are new additional patterns that emerged. The algorithm did clearly identify Silicon Valley Area and San Francisco as different clusters. San Francisco seemed to be in cluster 6, while Sillicon Valley area seemed to be mostly in cluster 9. There also appear to be new differences in the look of the Southern California coastal region. Rather than most of the neighborhoods being classified in one cluster that clearly denoted the metropolitan areas, there are many different clusters in the area, picking out individual differences between slightly different areas, as well as differences within areas themselves (i.e. how Los Angeles and the other southern California cities have multiple clusters that look essentially on top of each other)."
   ]
  },
  {
   "cell_type": "code",
   "execution_count": null,
   "metadata": {},
   "outputs": [],
   "source": [
    "def get_SSE(clusters, k):\n",
    "    # SSE Calculation (per attribute)... distance formula without taking the square root\n",
    "    \n",
    "    cluster_means = reassign_centroids(clusters)\n",
    "    cluster_num = 0\n",
    "    SSE_Values = []\n",
    "\n",
    "    for c in clusters:\n",
    "        indiv_clust_SSE = [0,0,0,0,0,0,0,0,0]          \n",
    "        for point in c:\n",
    "            for attribute in range(0, len(point)):\n",
    "                indiv_clust_SSE[attribute] += math.pow(abs(point[attribute] - cluster_means[cluster_num][attribute]), 2)#  absolute value. squared\n",
    "        SSE_Values.append(indiv_clust_SSE)\n",
    "        cluster_num += 1\n",
    "\n",
    "    SSE_by_cluster = [] \n",
    "\n",
    "    for clust in SSE_Values:\n",
    "        cluster_SSE = 0\n",
    "        for v in clust:\n",
    "            cluster_SSE += v\n",
    "        SSE_by_cluster.append(cluster_SSE)\n",
    "\n",
    "    SSE_k = 0\n",
    "    for i in SSE_by_cluster:\n",
    "        SSE_k += i\n",
    "\n",
    "    print(\"SSE Value for k = \", k, \" = \", SSE_k )\n",
    "    return SSE_k\n",
    "    \n",
    "clusters2 = k_means(2, X_train)\n",
    "clusters3 = k_means(3, X_train)\n",
    "clusters4 = k_means(4, X_train)\n",
    "clusters5 = k_means(5, X_train)\n",
    "clusters6 = k_means(6, X_train)\n",
    "clusters8 = k_means(8, X_train)\n",
    "clusters9 = k_means(9, X_train)\n",
    "clusters10 = k_means(10, X_train)\n",
    "\n",
    "k2 = get_SSE(clusters2, 2)\n",
    "k3 = get_SSE(clusters3, 3)\n",
    "k4 = get_SSE(clusters4, 4)\n",
    "k5 = get_SSE(clusters5, 5)\n",
    "k6 = get_SSE(clusters6, 6)\n",
    "k8 = get_SSE(clusters8, 8)\n",
    "k9 = get_SSE(clusters9, 9)\n",
    "k10 = get_SSE(clusters10, 10)"
   ]
  },
  {
   "cell_type": "code",
   "execution_count": null,
   "metadata": {},
   "outputs": [],
   "source": [
    "x = [2, 3, 4, 5, 6, 8, 9, 10]\n",
    "y = [k2, k3, k4, k5, k6, k8, k9, k10]\n",
    "plt.plot(x, y)\n",
    "plt.show()"
   ]
  },
  {
   "cell_type": "markdown",
   "metadata": {},
   "source": [
    "There appear to be multiple elbows in the graph. The one that I am looking at to choose the value of k is the one that is at k = 8."
   ]
  },
  {
   "cell_type": "markdown",
   "metadata": {
    "colab_type": "text",
    "id": "NZ4QG5s-3_tz"
   },
   "source": [
    "- - -\n",
    "## 4. WRITING ON THE INTUITION FOR THE CALIFORNIA HOUSING CRISIS (10 pts)\n",
    "\n",
    "This question is a qualitative one, and is intended to let you experiment with a real world clustering task. Hopefully it gives you some intuition as for how the preset number of clusters affects the clustering results. Too few clusters may not reveal the information that is in the data. Too many clusters may hurt data analysis as well, as it may not generalize (and in this sense, it is equivalent to over fitting).\n",
    "\n",
    "Write at least one paragraph to demonstrate your intuition on the California Housing Crisis. You might also want to mention some possible solutions to solve it. You will receive credits based upon your insights and intuitions on this challenge. \n",
    "\n"
   ]
  },
  {
   "cell_type": "markdown",
   "metadata": {},
   "source": [
    "There is a housing crisis in California, but the crisis is much worse in some areas than in others, mainly metropolitan areas where a lot of the tech insdustry is. Silicon Valley and San Francisco have huge problems with wildly high housing costs, especially. Los Angeles is also a high rent area. Having closer to 10 clusters allowed us to pick out more specific problem areas than having 2 clusters did. It seems like a big reason areas like Silicon Valley and San Francisco have such problems is partially because of the booming technology industry and the high income that people in technology earn. A potential solution could be increasing the supply of housing in California. If supply goes up, prices should fall by economics. To help this, construction costs could be cut as well by finding innovative and cost-effective new ways to build. The government could also increase spending on affordable housing."
   ]
  },
  {
   "cell_type": "markdown",
   "metadata": {
    "colab_type": "text",
    "id": "5yfa4aHc3_tz"
   },
   "source": [
    "- - - \n",
    "### NEED HELP?"
   ]
  },
  {
   "cell_type": "markdown",
   "metadata": {
    "colab_type": "text",
    "id": "gBgdTs583_t0"
   },
   "source": [
    "In case you get stuck in any step in the process, you may find some useful information from:\n",
    "\n",
    " * Consult my lectures and/or the textbook\n",
    " * Talk to the TA, they are available and there to help you during their OH.\n",
    " * Come talk to me or email me <nn4pj@virginia.edu> with subject starting \"CS4501 Assignment 3:...\".\n",
    "\n",
    "Best of luck and have fun!"
   ]
  },
  {
   "cell_type": "code",
   "execution_count": null,
   "metadata": {
    "colab": {},
    "colab_type": "code",
    "id": "HDQ0QHjU3_t1"
   },
   "outputs": [],
   "source": []
  }
 ],
 "metadata": {
  "colab": {
   "collapsed_sections": [],
   "name": "CS 4501 Assignment 3.ipynb",
   "provenance": [],
   "version": "0.3.2"
  },
  "kernelspec": {
   "display_name": "Python 3",
   "language": "python",
   "name": "python3"
  },
  "language_info": {
   "codemirror_mode": {
    "name": "ipython",
    "version": 3
   },
   "file_extension": ".py",
   "mimetype": "text/x-python",
   "name": "python",
   "nbconvert_exporter": "python",
   "pygments_lexer": "ipython3",
   "version": "3.7.0"
  }
 },
 "nbformat": 4,
 "nbformat_minor": 1
}
